# %%
# Importing pandas and matplotlib
import pandas as pd
import matplotlib.pyplot as plt

# Read in the Netflix CSV as a DataFrame
netflix_df = pd.read_csv("netflix_data.csv")

# %%
# Start coding here! Use as many cells as you like
netflix_df.head()

# %%
# Filtering for movies released between 1990 and 1999
movies_1990s = netflix_df[(netflix_df["type"] == "Movie") & (netflix_df["release_year"] >= 1990) & (netflix_df["release_year"] <= 2000)]

# %%
# Visualizing distribution of movie durations
movies_1990s["duration"].hist(bins=20)
plt.title("Distribution of Movie Duration in the 1990s")
plt.xlabel("Duration (minutes)")
plt.ylabel("Number of Movies")
plt.show()

# Most frequent duration
duration = movies_1990s["duration"].mode()
print(duration)
duration = 94

# %%
# Count of Action movies under 90 minutes released in the 1990s
short_movie_count = 0
action_movies_1990 = netflix_df[(netflix_df["genre"] == "Action") & (netflix_df["release_year"] >= 1990) & (netflix_df["release_year"] < 2000)]

for label, row in action_movies_1990.iterrows():
    if row["duration"] < 90:
        short_movie_count = short_movie_count + 1

print(short_movie_count)


